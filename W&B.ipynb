{
  "nbformat": 4,
  "nbformat_minor": 0,
  "metadata": {
    "colab": {
      "provenance": [],
      "authorship_tag": "ABX9TyNCuJRXhlgnnaaJIP2J6wgd",
      "include_colab_link": true
    },
    "kernelspec": {
      "name": "python3",
      "display_name": "Python 3"
    },
    "language_info": {
      "name": "python"
    }
  },
  "cells": [
    {
      "cell_type": "markdown",
      "metadata": {
        "id": "view-in-github",
        "colab_type": "text"
      },
      "source": [
        "<a href=\"https://colab.research.google.com/github/03sarath/Weights-and-Biases-/blob/master/W%26B.ipynb\" target=\"_parent\"><img src=\"https://colab.research.google.com/assets/colab-badge.svg\" alt=\"Open In Colab\"/></a>"
      ]
    },
    {
      "cell_type": "markdown",
      "source": [
        "# 1. Install & Setup\n"
      ],
      "metadata": {
        "id": "O7G4KqAKPE8q"
      }
    },
    {
      "cell_type": "code",
      "source": [
        "!pip install --upgrade pip\n",
        "!pip install tensorflow scikit-learn wandb"
      ],
      "metadata": {
        "id": "2Zto6WJeO6XJ"
      },
      "execution_count": null,
      "outputs": []
    },
    {
      "cell_type": "markdown",
      "source": [
        "# Install necessary libraries"
      ],
      "metadata": {
        "id": "nVNLRO7APByC"
      }
    },
    {
      "cell_type": "code",
      "source": [
        "import os\n",
        "import wandb\n",
        "from wandb.integration.keras import (\n",
        "    WandbMetricsLogger,\n",
        "    WandbModelCheckpoint,\n",
        "    # WandbEvalCallback  # Uncomment if you want to log sample predictions\n",
        ")\n",
        "import tensorflow as tf\n",
        "from tensorflow import keras\n",
        "from sklearn.datasets import load_iris\n",
        "from sklearn.model_selection import train_test_split\n",
        "import numpy as np"
      ],
      "metadata": {
        "id": "4VNNO9qXO_fZ"
      },
      "execution_count": null,
      "outputs": []
    },
    {
      "cell_type": "markdown",
      "source": [
        "# 2. Initialize W&B\n"
      ],
      "metadata": {
        "id": "ToZC4_4gPTKR"
      }
    },
    {
      "cell_type": "code",
      "source": [
        "wandb.login()"
      ],
      "metadata": {
        "id": "WdwyR9t0PY64"
      },
      "execution_count": null,
      "outputs": []
    },
    {
      "cell_type": "code",
      "source": [
        "run = wandb.init(\n",
        "    project=\"sample-test\",\n",
        "    config={\n",
        "        \"learning_rate\": 0.01,\n",
        "        \"epochs\": 20,\n",
        "        \"batch_size\": 16,\n",
        "        \"architecture\": \"Sequential\",\n",
        "        \"dataset\": \"Iris\"\n",
        "    }\n",
        ")\n",
        "config = run.config"
      ],
      "metadata": {
        "id": "IG4SeBWGPdgw"
      },
      "execution_count": null,
      "outputs": []
    },
    {
      "cell_type": "markdown",
      "source": [
        "# 3. Load & Prepare Data"
      ],
      "metadata": {
        "id": "JBQuuPR8Peqo"
      }
    },
    {
      "cell_type": "code",
      "source": [
        "data = load_iris()\n",
        "X, y = data.data, data.target\n",
        "X_train, X_test, y_train, y_test = train_test_split(\n",
        "    X, y, test_size=0.2, random_state=42, stratify=y\n",
        ")"
      ],
      "metadata": {
        "id": "hp2SHTyXPjFK"
      },
      "execution_count": null,
      "outputs": []
    },
    {
      "cell_type": "markdown",
      "source": [
        "# 4. Build the Model"
      ],
      "metadata": {
        "id": "6hsKf3ngPoIR"
      }
    },
    {
      "cell_type": "code",
      "source": [
        "model = keras.Sequential([\n",
        "    keras.Input(shape=(4,)),\n",
        "    keras.layers.Dense(16, activation=\"relu\"),\n",
        "    keras.layers.Dense(16, activation=\"relu\"),\n",
        "    keras.layers.Dense(3, activation=\"softmax\")\n",
        "])\n",
        "model.compile(\n",
        "    optimizer=keras.optimizers.Adam(config.learning_rate),\n",
        "    loss=keras.losses.SparseCategoricalCrossentropy(),\n",
        "    metrics=[\"accuracy\"]\n",
        ")"
      ],
      "metadata": {
        "id": "9uDNXEG8PyGQ"
      },
      "execution_count": null,
      "outputs": []
    },
    {
      "cell_type": "markdown",
      "source": [
        "# 5. Prepare Callbacks"
      ],
      "metadata": {
        "id": "hwFTkuf4P1NQ"
      }
    },
    {
      "cell_type": "code",
      "source": [
        "# Ensure the models directory exists\n",
        "os.makedirs(\"models\", exist_ok=True)\n",
        "\n",
        "callbacks = [\n",
        "    # Log epoch metrics and resource usage\n",
        "    WandbMetricsLogger(log_freq=\"epoch\"),\n",
        "\n",
        "    # Save every epoch as a .keras file so W&B can always find it\n",
        "    WandbModelCheckpoint(\n",
        "        filepath=\"models/iris_model_{epoch:02d}.keras\",\n",
        "        save_freq=\"epoch\",         # write a file each epoch\n",
        "        save_best_only=False,      # ensure every epoch is saved\n",
        "        save_weights_only=False    # full SavedModel (.keras) format\n",
        "    ),\n",
        "]"
      ],
      "metadata": {
        "id": "SGHamrMVP9fK"
      },
      "execution_count": null,
      "outputs": []
    },
    {
      "cell_type": "markdown",
      "source": [
        "# 6. Train"
      ],
      "metadata": {
        "id": "Er84AT3cQBJw"
      }
    },
    {
      "cell_type": "code",
      "source": [
        "history = model.fit(\n",
        "    X_train, y_train,\n",
        "    validation_data=(X_test, y_test),\n",
        "    epochs=int(config.epochs),\n",
        "    batch_size=int(config.batch_size),\n",
        "    callbacks=callbacks\n",
        ")"
      ],
      "metadata": {
        "id": "3W_6hR1FQDYw"
      },
      "execution_count": null,
      "outputs": []
    },
    {
      "cell_type": "markdown",
      "source": [
        "# 7. Evaluate & Finish"
      ],
      "metadata": {
        "id": "ilIFIeuAQGgg"
      }
    },
    {
      "cell_type": "code",
      "execution_count": null,
      "metadata": {
        "id": "ZHY2dvwoO0wO"
      },
      "outputs": [],
      "source": [
        "loss, acc = model.evaluate(X_test, y_test, verbose=0)\n",
        "print(f\"Test Loss: {loss:.4f}  |  Test Accuracy: {acc:.4f}\")\n",
        "run.finish()"
      ]
    }
  ]
}